{
  "nbformat": 4,
  "nbformat_minor": 0,
  "metadata": {
    "colab": {
      "provenance": [],
      "authorship_tag": "ABX9TyNfGTRzzn68zpVgMEDOAbl2",
      "include_colab_link": true
    },
    "kernelspec": {
      "name": "python3",
      "display_name": "Python 3"
    },
    "language_info": {
      "name": "python"
    }
  },
  "cells": [
    {
      "cell_type": "markdown",
      "metadata": {
        "id": "view-in-github",
        "colab_type": "text"
      },
      "source": [
        "<a href=\"https://colab.research.google.com/github/harshal1507/python/blob/main/Python_Basics.ipynb\" target=\"_parent\"><img src=\"https://colab.research.google.com/assets/colab-badge.svg\" alt=\"Open In Colab\"/></a>"
      ]
    },
    {
      "cell_type": "markdown",
      "source": [
        "# Print Function"
      ],
      "metadata": {
        "id": "oyZ5Rq90IGeU"
      }
    },
    {
      "cell_type": "code",
      "execution_count": null,
      "metadata": {
        "colab": {
          "base_uri": "https://localhost:8080/"
        },
        "id": "M_Brbc5MHYKv",
        "outputId": "aa57a0dc-3cd8-46a5-bbff-2657fa2dbfb0"
      },
      "outputs": [
        {
          "output_type": "stream",
          "name": "stdout",
          "text": [
            "Hello World\n"
          ]
        }
      ],
      "source": [
        "print(\"Hello World\");"
      ]
    },
    {
      "cell_type": "code",
      "source": [
        "print(\"Hello \" + \"Machine Learning\")"
      ],
      "metadata": {
        "colab": {
          "base_uri": "https://localhost:8080/"
        },
        "id": "ssWZGoLZH60E",
        "outputId": "7212b7ee-3354-47fd-ca0b-a6f0b34dd4e7"
      },
      "execution_count": null,
      "outputs": [
        {
          "output_type": "stream",
          "name": "stdout",
          "text": [
            "Hello Machine Learning\n"
          ]
        }
      ]
    },
    {
      "cell_type": "code",
      "source": [
        "print(8+3)"
      ],
      "metadata": {
        "colab": {
          "base_uri": "https://localhost:8080/"
        },
        "id": "DjD3HQF4IajN",
        "outputId": "7b75836d-4d15-4a4c-9ba5-4f99c8c54918"
      },
      "execution_count": null,
      "outputs": [
        {
          "output_type": "stream",
          "name": "stdout",
          "text": [
            "11\n"
          ]
        }
      ]
    },
    {
      "cell_type": "markdown",
      "source": [
        "# Basic Data Types\n",
        "\n",
        "1. integer\n",
        "2. float\n",
        "3. str\n",
        "4. complex\n",
        "5. boolean"
      ],
      "metadata": {
        "id": "bhPCZGi8IydW"
      }
    },
    {
      "cell_type": "code",
      "source": [
        "type(8)"
      ],
      "metadata": {
        "colab": {
          "base_uri": "https://localhost:8080/"
        },
        "id": "BItbp_8NJH-f",
        "outputId": "590d1d69-3f9c-48f0-e9f4-c4fb3c46901f"
      },
      "execution_count": null,
      "outputs": [
        {
          "output_type": "execute_result",
          "data": {
            "text/plain": [
              "int"
            ]
          },
          "metadata": {},
          "execution_count": 20
        }
      ]
    },
    {
      "cell_type": "code",
      "source": [
        "type(8.3)"
      ],
      "metadata": {
        "colab": {
          "base_uri": "https://localhost:8080/"
        },
        "id": "rwSgjMkiJLnZ",
        "outputId": "18fd54df-591f-41d1-de22-754e2de8fc1f"
      },
      "execution_count": null,
      "outputs": [
        {
          "output_type": "execute_result",
          "data": {
            "text/plain": [
              "float"
            ]
          },
          "metadata": {},
          "execution_count": 21
        }
      ]
    },
    {
      "cell_type": "code",
      "source": [
        "type(\"HELLO\")"
      ],
      "metadata": {
        "colab": {
          "base_uri": "https://localhost:8080/"
        },
        "id": "gU2RS_5cJRVG",
        "outputId": "64c7a896-dc6f-4bb8-dc4c-311d5d3a5f66"
      },
      "execution_count": null,
      "outputs": [
        {
          "output_type": "execute_result",
          "data": {
            "text/plain": [
              "str"
            ]
          },
          "metadata": {},
          "execution_count": 22
        }
      ]
    },
    {
      "cell_type": "code",
      "source": [
        "i = 1 +3j\n",
        "type(i)"
      ],
      "metadata": {
        "colab": {
          "base_uri": "https://localhost:8080/"
        },
        "id": "nCZHHss6lk2P",
        "outputId": "d27b713d-0eda-4be0-b05f-757eec56a744"
      },
      "execution_count": null,
      "outputs": [
        {
          "output_type": "execute_result",
          "data": {
            "text/plain": [
              "complex"
            ]
          },
          "metadata": {},
          "execution_count": 24
        }
      ]
    },
    {
      "cell_type": "code",
      "source": [
        "x = 10\n",
        "y = float(x)\n",
        "print(y)\n",
        "\n",
        "a = 5.33\n",
        "print(type(int(a)))"
      ],
      "metadata": {
        "colab": {
          "base_uri": "https://localhost:8080/"
        },
        "id": "657u5Ijjl4Jn",
        "outputId": "c7e97b59-2ea6-4b46-a5bf-990440c69779"
      },
      "execution_count": null,
      "outputs": [
        {
          "output_type": "stream",
          "name": "stdout",
          "text": [
            "10.0\n",
            "<class 'int'>\n"
          ]
        }
      ]
    },
    {
      "cell_type": "code",
      "source": [
        "a = True\n",
        "b = False\n",
        "print(type(a))\n",
        "print(b)"
      ],
      "metadata": {
        "colab": {
          "base_uri": "https://localhost:8080/"
        },
        "id": "US-i9ySVmcXx",
        "outputId": "2ba5d23c-8dd9-4c9a-f478-33ef902d49c2"
      },
      "execution_count": null,
      "outputs": [
        {
          "output_type": "stream",
          "name": "stdout",
          "text": [
            "<class 'bool'>\n",
            "False\n"
          ]
        }
      ]
    },
    {
      "cell_type": "code",
      "source": [
        "# Strings\n",
        "print(\"Hello, \"*5)\n",
        "\n",
        "# Slicing\n",
        "str1 = \"programming\"\n",
        "print(str1[1:5]) # end index is excluded\n",
        "\n",
        "# Step\n",
        "print(str1[0:10:2])\n",
        "\n",
        "# String Concatenation\n",
        "word1 = \"Machine\"\n",
        "word2 = \"Learning\"\n",
        "print(word1+\" \"+word2)"
      ],
      "metadata": {
        "colab": {
          "base_uri": "https://localhost:8080/"
        },
        "id": "XqdQ8O1gnA8X",
        "outputId": "cc1ce007-7afa-480c-a72b-aaf72ff32501"
      },
      "execution_count": null,
      "outputs": [
        {
          "output_type": "stream",
          "name": "stdout",
          "text": [
            "Hello, Hello, Hello, Hello, Hello, \n",
            "rogr\n",
            "pormi\n",
            "Machine Learning\n"
          ]
        }
      ]
    },
    {
      "cell_type": "markdown",
      "source": [
        "# Constants and Variables"
      ],
      "metadata": {
        "id": "vhyrgw6qJV6c"
      }
    },
    {
      "cell_type": "code",
      "source": [
        "superhero = \"Ironman\"\n",
        "print(superhero)"
      ],
      "metadata": {
        "colab": {
          "base_uri": "https://localhost:8080/"
        },
        "id": "fdEaVrMkJZAS",
        "outputId": "4b99a2e4-aeb2-40a0-c38b-9259356320c6"
      },
      "execution_count": null,
      "outputs": [
        {
          "output_type": "stream",
          "name": "stdout",
          "text": [
            "Ironman\n"
          ]
        }
      ]
    },
    {
      "cell_type": "code",
      "source": [
        "hero1,hero2,hero3 = \"Iron man\", \"Captain America\", \"Batman\"\n",
        "print(hero1)\n",
        "print(hero2)\n",
        "print(hero3)"
      ],
      "metadata": {
        "colab": {
          "base_uri": "https://localhost:8080/"
        },
        "id": "iKh9EqDwJ85M",
        "outputId": "41036323-b8b1-4373-c648-b1d3056285fa"
      },
      "execution_count": null,
      "outputs": [
        {
          "output_type": "stream",
          "name": "stdout",
          "text": [
            "Iron man\n",
            "Captain America\n",
            "Batman\n"
          ]
        }
      ]
    },
    {
      "cell_type": "code",
      "source": [
        "x = y = z = 23\n",
        "print(x)\n",
        "print(y)\n",
        "print(z)"
      ],
      "metadata": {
        "colab": {
          "base_uri": "https://localhost:8080/"
        },
        "id": "xDhfvKPZKT1U",
        "outputId": "c2096136-07aa-43fd-9ff2-0834924b3edb"
      },
      "execution_count": null,
      "outputs": [
        {
          "output_type": "stream",
          "name": "stdout",
          "text": [
            "23\n",
            "23\n",
            "23\n"
          ]
        }
      ]
    },
    {
      "cell_type": "markdown",
      "source": [
        "# Input Function"
      ],
      "metadata": {
        "id": "Ppz19i-MLLLJ"
      }
    },
    {
      "cell_type": "code",
      "source": [
        "number_1 = input(\"Enter first number : \");\n",
        "number_2 = input(\"Enter second number : \");\n",
        "\n",
        "print(type(number_1));\n",
        "print(type(number_2));\n",
        "# type will be str so below method is used to calculate sum\n",
        "\n",
        "number_3 = int(input(\"Enter third number : \"));\n",
        "number_4 = int(input(\"Enter fourth number : \"));\n",
        "\n",
        "sum = number_3 + number_4\n",
        "print(sum)"
      ],
      "metadata": {
        "colab": {
          "base_uri": "https://localhost:8080/"
        },
        "id": "Uw3CwgVjLPpk",
        "outputId": "1205c09b-9fad-475f-a80a-c4642cc59cc2"
      },
      "execution_count": null,
      "outputs": [
        {
          "output_type": "stream",
          "name": "stdout",
          "text": [
            "Enter first number : 100\n",
            "Enter second number : 100\n",
            "<class 'str'>\n",
            "<class 'str'>\n",
            "Enter third number : 100\n",
            "Enter fourth number : 20\n",
            "120\n"
          ]
        }
      ]
    },
    {
      "cell_type": "code",
      "source": [
        "# changing datatype in python\n",
        "\n",
        "num = 5\n",
        "print(num);\n",
        "print(float(num));"
      ],
      "metadata": {
        "colab": {
          "base_uri": "https://localhost:8080/"
        },
        "id": "pAHfUTbDMmf6",
        "outputId": "300df971-01bb-412b-ae3c-a95923688931"
      },
      "execution_count": null,
      "outputs": [
        {
          "output_type": "stream",
          "name": "stdout",
          "text": [
            "5\n",
            "5.0\n"
          ]
        }
      ]
    },
    {
      "cell_type": "markdown",
      "source": [
        "# Types of Objects in Python\n",
        "\n",
        "1.   Immutable Objects\n",
        "2.   Mutable Objects\n",
        "\n",
        "Immutable Objects\n",
        "\n",
        "1.   int\n",
        "2.   float\n",
        "3.   string\n",
        "4.   bool\n",
        "5.   tuple\n",
        "\n",
        "Mutable Objects\n",
        "\n",
        "1. List\n",
        "2. Set\n",
        "3. Dictionary\n",
        "\n",
        "\n",
        "\n"
      ],
      "metadata": {
        "id": "3rULIlJqogDo"
      }
    },
    {
      "cell_type": "markdown",
      "source": [
        "**LIST []**"
      ],
      "metadata": {
        "id": "cWNMFbn09xzq"
      }
    },
    {
      "cell_type": "code",
      "source": [
        "# list\n",
        "list1 = [1,45,\"English\",True,50.6]\n",
        "list1.append(6)\n",
        "print(list1)\n",
        "\n",
        "# print elements\n",
        "print(list1[2])\n",
        "\n",
        "# lists allow duplicate values\n",
        "list2 = [1,2,3,4,43,676,23,1,2]\n",
        "print(list2)\n",
        "print(len(list2))\n",
        "\n",
        "# initiating an empty list\n",
        "list3 = []\n",
        "print(list3)\n",
        "list3.append(10)\n",
        "print(list3)\n",
        "\n",
        "# delete\n",
        "del list3[0]\n",
        "print(list3)\n",
        "\n",
        "# join two lists\n",
        "list4 = [2,4,6,2,7,3,2]\n",
        "list5 = [5,2,6]\n",
        "list6 = list4 + list5\n",
        "print(list6)"
      ],
      "metadata": {
        "colab": {
          "base_uri": "https://localhost:8080/"
        },
        "id": "GiHtHHcV63Ms",
        "outputId": "88ed6961-0c5f-448d-b7c9-4a2e4e0e1e2d"
      },
      "execution_count": null,
      "outputs": [
        {
          "output_type": "stream",
          "name": "stdout",
          "text": [
            "[1, 45, 'English', True, 50.6, 6]\n",
            "English\n",
            "[1, 2, 3, 4, 43, 676, 23, 1, 2]\n",
            "9\n",
            "[]\n",
            "[10]\n",
            "[]\n",
            "[2, 4, 6, 2, 7, 3, 2, 5, 2, 6]\n"
          ]
        }
      ]
    },
    {
      "cell_type": "markdown",
      "source": [
        "**TUPLE ()**"
      ],
      "metadata": {
        "id": "RBhA2fVr97f5"
      }
    },
    {
      "cell_type": "code",
      "source": [
        "tuple1 = (1,2,4,5)\n",
        "print(tuple1)\n",
        "type(tuple1)\n",
        "\n",
        "# tuple allows multiple data types\n",
        "tuple2 = (1,4,6.78,\"Coding\", True)\n",
        "print(tuple2)\n",
        "\n",
        "# converting a list to a tuple\n",
        "list_to_tuple = [3,6,2,9]\n",
        "print(list_to_tuple)\n",
        "\n",
        "generated_tuple = tuple(list_to_tuple)\n",
        "print(generated_tuple)\n",
        "type(generated_tuple)\n",
        "\n",
        "print(generated_tuple[2])\n",
        "\n",
        "# can't use = generated_tuple.append(3) as tuples are immutable\n",
        "print(len(generated_tuple))"
      ],
      "metadata": {
        "colab": {
          "base_uri": "https://localhost:8080/"
        },
        "id": "iJMDw2iW95YR",
        "outputId": "5a6f437e-d693-4e6e-8d37-5001f1edef90"
      },
      "execution_count": null,
      "outputs": [
        {
          "output_type": "stream",
          "name": "stdout",
          "text": [
            "(1, 2, 4, 5)\n",
            "(1, 4, 6.78, 'Coding', True)\n",
            "[3, 6, 2, 9]\n",
            "(3, 6, 2, 9)\n",
            "2\n",
            "4\n"
          ]
        }
      ]
    },
    {
      "cell_type": "markdown",
      "source": [
        "**SET {}**"
      ],
      "metadata": {
        "id": "-TBdFe6oBrWM"
      }
    },
    {
      "cell_type": "code",
      "source": [
        "# sets doesnot allow duplicate values\n",
        "set1 = {1,1,3,5,3}\n",
        "print(set1)\n",
        "print(type(set1))\n",
        "print(set1.pop())\n",
        "print(set1)\n",
        "\n",
        "# convert a list / tuple to set\n",
        "list_to_set = [0,5,2,42,2]\n",
        "tuple_to_set = (2,4,1,6,1)\n",
        "\n",
        "print(set(list_to_set))\n",
        "print(set(tuple_to_set))"
      ],
      "metadata": {
        "colab": {
          "base_uri": "https://localhost:8080/"
        },
        "id": "nF1ezqG0BtVC",
        "outputId": "a4967b28-4a31-4c46-aaf0-2b99bc160917"
      },
      "execution_count": null,
      "outputs": [
        {
          "output_type": "stream",
          "name": "stdout",
          "text": [
            "{1, 3, 5}\n",
            "<class 'set'>\n",
            "1\n",
            "{3, 5}\n",
            "{0, 2, 42, 5}\n",
            "{1, 2, 4, 6}\n"
          ]
        }
      ]
    },
    {
      "cell_type": "markdown",
      "source": [
        "**DICTIONARY (KEY-VALUE PAIR)**"
      ],
      "metadata": {
        "id": "AjsZzrgXJqp0"
      }
    },
    {
      "cell_type": "code",
      "source": [
        "dict1 = {'name':'David','age':30, 'isEmployed':True}\n",
        "print(dict1)\n",
        "type(dict1)\n",
        "\n",
        "print(dict1['name'])\n",
        "print(dict1['age'])\n",
        "print(dict1['isEmployed'])\n",
        "\n",
        "# dictionary doesnot allow duplicate values\n",
        "dict2 = {'name':'David','age':30, 'isEmployed':True, 'name':'David','age':30, 'isEmployed':True}\n",
        "print(dict2)\n",
        "\n"
      ],
      "metadata": {
        "colab": {
          "base_uri": "https://localhost:8080/"
        },
        "id": "a9-zsTlTJ1wT",
        "outputId": "d4557393-8add-4b97-cb07-7745980c14e6"
      },
      "execution_count": null,
      "outputs": [
        {
          "output_type": "stream",
          "name": "stdout",
          "text": [
            "{'name': 'David', 'age': 30, 'isEmployed': True}\n",
            "David\n",
            "30\n",
            "True\n",
            "{'name': 'David', 'age': 30, 'isEmployed': True}\n"
          ]
        }
      ]
    },
    {
      "cell_type": "markdown",
      "source": [
        "# Operators in Python\n",
        "\n",
        "1. Arithmetic Operators\n",
        "2. Assignment Operators\n",
        "3. Comparison Operators\n",
        "4. Logical Operators\n",
        "5. Identity Operators\n",
        "6. Membership Operators"
      ],
      "metadata": {
        "id": "Z-htcFjZNmDE"
      }
    },
    {
      "cell_type": "markdown",
      "source": [
        "1. Arithmetic Operators"
      ],
      "metadata": {
        "id": "Kci9UEFhOBxR"
      }
    },
    {
      "cell_type": "code",
      "source": [
        "num1 = 10\n",
        "num2 = 20\n",
        "\n",
        "sum = num1 + num2\n",
        "print(\"sum\",sum)\n",
        "\n",
        "diff = num1 - num2\n",
        "print(\"diff\",diff)\n",
        "\n",
        "product = num1 * num2\n",
        "print(\"product\",product)\n",
        "\n",
        "divison = num1 / num2\n",
        "print(\"divison\",divison)\n",
        "\n",
        "exp = num1 ** num2\n",
        "print(\"exponent\",exp)\n",
        "\n",
        "modulus = num1 % num2\n",
        "print(\"remainder\",modulus)"
      ],
      "metadata": {
        "colab": {
          "base_uri": "https://localhost:8080/"
        },
        "id": "DQqYGwruNq8d",
        "outputId": "f0fc0280-4790-4a05-8eb4-54e7d22f41b0"
      },
      "execution_count": null,
      "outputs": [
        {
          "output_type": "stream",
          "name": "stdout",
          "text": [
            "sum 30\n",
            "diff -10\n",
            "product 200\n",
            "divison 0.5\n",
            "exponent 100000000000000000000\n",
            "remainder 10\n"
          ]
        }
      ]
    },
    {
      "cell_type": "markdown",
      "source": [
        "2. Assignment Operators\n",
        "\n"
      ],
      "metadata": {
        "id": "MbfH5urh7BFg"
      }
    },
    {
      "cell_type": "code",
      "source": [
        "# +=\n",
        "# -=\n",
        "# *=\n",
        "# /=\n",
        "# **=\n",
        "# %=\n",
        "\n",
        "\n",
        "a = 5\n",
        "a += 5\n",
        "print(a)\n",
        "\n",
        "b = 5\n",
        "b -= 2\n",
        "print(b)"
      ],
      "metadata": {
        "colab": {
          "base_uri": "https://localhost:8080/"
        },
        "id": "SdWuwxhr7ETU",
        "outputId": "cd8cfabb-2fe8-4dcc-f8ff-4c3fb6802073"
      },
      "execution_count": null,
      "outputs": [
        {
          "output_type": "stream",
          "name": "stdout",
          "text": [
            "10\n",
            "3\n"
          ]
        }
      ]
    },
    {
      "cell_type": "markdown",
      "source": [
        "3. Comparison Operators"
      ],
      "metadata": {
        "id": "l1U7pTv_9DRh"
      }
    },
    {
      "cell_type": "code",
      "source": [
        "a = 5\n",
        "b = 10\n",
        "\n",
        "print(a==b)\n",
        "print(a!=b)\n",
        "print(a<=b)\n",
        "print(a>=b)\n",
        "print(a > b)\n",
        "print(a < b)"
      ],
      "metadata": {
        "colab": {
          "base_uri": "https://localhost:8080/"
        },
        "id": "KCFW_zNC9Ids",
        "outputId": "b51e1d19-631b-4ae7-dccb-8822b261f138"
      },
      "execution_count": null,
      "outputs": [
        {
          "output_type": "stream",
          "name": "stdout",
          "text": [
            "False\n",
            "True\n",
            "True\n",
            "False\n",
            "False\n",
            "True\n"
          ]
        }
      ]
    },
    {
      "cell_type": "markdown",
      "source": [
        "4. Logical Operators"
      ],
      "metadata": {
        "id": "tBaFF8BJ93PZ"
      }
    },
    {
      "cell_type": "code",
      "source": [
        "a = 10\n",
        "\n",
        "print(a > 20 and a > 5)\n",
        "print(a > 20 or a > 5)\n",
        "print(not(a > 8 and a > 5))"
      ],
      "metadata": {
        "colab": {
          "base_uri": "https://localhost:8080/"
        },
        "id": "xwgS00Es96wy",
        "outputId": "7ab0c361-8245-4cd0-bcf3-fca22feabd75"
      },
      "execution_count": null,
      "outputs": [
        {
          "output_type": "stream",
          "name": "stdout",
          "text": [
            "False\n",
            "True\n",
            "False\n"
          ]
        }
      ]
    },
    {
      "cell_type": "markdown",
      "source": [
        "5. Identity Operators"
      ],
      "metadata": {
        "id": "DG94_fXP_b5C"
      }
    },
    {
      "cell_type": "code",
      "source": [
        "x = 5\n",
        "y = 10\n",
        "\n",
        "print(x is y)\n",
        "print(x is not y)"
      ],
      "metadata": {
        "colab": {
          "base_uri": "https://localhost:8080/"
        },
        "id": "nQ1PRajk_jbb",
        "outputId": "3ab24d2b-8656-4e65-de62-4a054a36bae0"
      },
      "execution_count": null,
      "outputs": [
        {
          "output_type": "stream",
          "name": "stdout",
          "text": [
            "False\n",
            "True\n"
          ]
        }
      ]
    },
    {
      "cell_type": "markdown",
      "source": [
        "6. Membership Operators"
      ],
      "metadata": {
        "id": "gbPUDgEvAEq6"
      }
    },
    {
      "cell_type": "code",
      "source": [
        "# in\n",
        "# not in\n",
        "\n",
        "a = 5\n",
        "b = 10\n",
        "c = [1,2,3,4,5,6]\n",
        "\n",
        "print(a in c)\n",
        "print(b not in c)\n",
        "print(a not in c)"
      ],
      "metadata": {
        "colab": {
          "base_uri": "https://localhost:8080/"
        },
        "id": "SoZNNATGAIIQ",
        "outputId": "d3d18976-1bfe-4ed7-f17d-0380290a559e"
      },
      "execution_count": null,
      "outputs": [
        {
          "output_type": "stream",
          "name": "stdout",
          "text": [
            "True\n",
            "True\n",
            "False\n"
          ]
        }
      ]
    },
    {
      "cell_type": "markdown",
      "source": [
        "# If Elif Else Statements"
      ],
      "metadata": {
        "id": "vR85Nmc5AerM"
      }
    },
    {
      "cell_type": "code",
      "source": [
        "a = 30\n",
        "b = 50\n",
        "\n",
        "if(a>b):\n",
        "    print(\"a is greater than b\")\n",
        "else:\n",
        "    print(\"b is greater than a\")"
      ],
      "metadata": {
        "colab": {
          "base_uri": "https://localhost:8080/"
        },
        "id": "qpnXxsg7Ahkw",
        "outputId": "bbbe5e9d-fe19-4fb5-eadb-ee0c324817c3"
      },
      "execution_count": null,
      "outputs": [
        {
          "output_type": "stream",
          "name": "stdout",
          "text": [
            "b is greater than a\n"
          ]
        }
      ]
    },
    {
      "cell_type": "code",
      "source": [
        "a = int(input(\"Enter first number: \"))\n",
        "b = int(input(\"Enter second number: \"))\n",
        "\n",
        "if(a>b):\n",
        "    print(\"first is greater than second\")\n",
        "else:\n",
        "    print(\"second is greater than first\")"
      ],
      "metadata": {
        "colab": {
          "base_uri": "https://localhost:8080/"
        },
        "id": "Vhey-sSDBWxe",
        "outputId": "37c2404e-322d-42ac-8715-a361fb828eef"
      },
      "execution_count": null,
      "outputs": [
        {
          "output_type": "stream",
          "name": "stdout",
          "text": [
            "Enter first number: 100\n",
            "Enter second number: 150\n",
            "second is greater than first\n"
          ]
        }
      ]
    },
    {
      "cell_type": "code",
      "source": [
        "a = 350\n",
        "b = 200\n",
        "c = 400\n",
        "\n",
        "if(b<a>c):\n",
        "    print(\"a is the greatest number\")\n",
        "elif(a<b>c):\n",
        "    print(\"b is the greatest number\")\n",
        "else:\n",
        "    print(\"c is the greatest number\")"
      ],
      "metadata": {
        "colab": {
          "base_uri": "https://localhost:8080/"
        },
        "id": "MoIMBTwZCJL4",
        "outputId": "2470f230-1bd3-4c50-e19b-fdf164d2343e"
      },
      "execution_count": null,
      "outputs": [
        {
          "output_type": "stream",
          "name": "stdout",
          "text": [
            "c is the greatest number\n"
          ]
        }
      ]
    },
    {
      "cell_type": "code",
      "source": [
        "# nested if\n",
        "\n",
        "a = 350\n",
        "b = 500\n",
        "c = 400\n",
        "\n",
        "if(a>b):\n",
        "    if(a>c):\n",
        "        print(\"a is the greatest number\")\n",
        "    else:\n",
        "        print(\"c is the greatest number\")\n",
        "else:\n",
        "    if(b>c):\n",
        "        print(\"b is the greatest number\")\n",
        "    else:\n",
        "        print(\"c is the greatest number\")"
      ],
      "metadata": {
        "colab": {
          "base_uri": "https://localhost:8080/"
        },
        "id": "T_z2XdJCCuqW",
        "outputId": "06f959d2-0647-4b18-9a0f-7ca594baa321"
      },
      "execution_count": null,
      "outputs": [
        {
          "output_type": "stream",
          "name": "stdout",
          "text": [
            "b is the greatest number\n"
          ]
        }
      ]
    },
    {
      "cell_type": "markdown",
      "source": [
        "# Loops"
      ],
      "metadata": {
        "id": "P1SscCgkEnf0"
      }
    },
    {
      "cell_type": "code",
      "source": [
        "for i in range(5):\n",
        "    laptop_price = int(input(\"Enter laptop price: \"))"
      ],
      "metadata": {
        "colab": {
          "base_uri": "https://localhost:8080/"
        },
        "id": "rxPir6TCErft",
        "outputId": "0f1c24da-f7e8-4bfe-aa73-7e305e353c2d"
      },
      "execution_count": null,
      "outputs": [
        {
          "name": "stdout",
          "output_type": "stream",
          "text": [
            "Enter laptop price: 2\n",
            "Enter laptop price: 3\n",
            "Enter laptop price: 4\n",
            "Enter laptop price: 5\n",
            "Enter laptop price: 6\n"
          ]
        }
      ]
    },
    {
      "cell_type": "code",
      "source": [
        "numbers = [34,546,2,6,353,25,7]\n",
        "\n",
        "for i in numbers:\n",
        "    print(i)"
      ],
      "metadata": {
        "colab": {
          "base_uri": "https://localhost:8080/"
        },
        "id": "QnYgAQJ7E9K0",
        "outputId": "983dbeaf-b85c-4441-f477-ace5bfecffac"
      },
      "execution_count": null,
      "outputs": [
        {
          "output_type": "stream",
          "name": "stdout",
          "text": [
            "34\n",
            "546\n",
            "2\n",
            "6\n",
            "353\n",
            "25\n",
            "7\n"
          ]
        }
      ]
    },
    {
      "cell_type": "code",
      "source": [
        "# while loop\n",
        "\n",
        "i = 0\n",
        "j = 5\n",
        "\n",
        "while(i < 10):\n",
        "    print(i)\n",
        "    i += 1\n",
        "\n",
        "while j<3:\n",
        "    print(i)\n",
        "    j += 1"
      ],
      "metadata": {
        "colab": {
          "base_uri": "https://localhost:8080/"
        },
        "id": "FJllE-0aK2rN",
        "outputId": "31d4199c-11c7-4c5a-b3b7-955b5f7c564e"
      },
      "execution_count": null,
      "outputs": [
        {
          "output_type": "stream",
          "name": "stdout",
          "text": [
            "0\n",
            "1\n",
            "2\n",
            "3\n",
            "4\n",
            "5\n",
            "6\n",
            "7\n",
            "8\n",
            "9\n"
          ]
        }
      ]
    },
    {
      "cell_type": "markdown",
      "source": [
        "# Functions"
      ],
      "metadata": {
        "id": "x_HiQy5BPrXE"
      }
    },
    {
      "cell_type": "code",
      "source": [
        "def factorial(num):\n",
        "    factorial = 1;\n",
        "\n",
        "    if(num == 0):\n",
        "        return;\n",
        "    else:\n",
        "        for i in range(1, num+1):\n",
        "            factorial = factorial * i\n",
        "        return factorial;\n",
        "\n",
        "print(factorial(5))"
      ],
      "metadata": {
        "colab": {
          "base_uri": "https://localhost:8080/"
        },
        "id": "MLv_0PYuPwPo",
        "outputId": "04a196ad-9260-458c-c8a9-cf9c3439cad1"
      },
      "execution_count": null,
      "outputs": [
        {
          "output_type": "stream",
          "name": "stdout",
          "text": [
            "120\n"
          ]
        }
      ]
    }
  ]
}